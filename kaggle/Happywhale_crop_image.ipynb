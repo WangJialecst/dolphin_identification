{
 "cells": [
  {
   "cell_type": "code",
   "execution_count": 1,
   "metadata": {
    "execution": {
     "iopub.execute_input": "2022-02-21T20:22:00.341575Z",
     "iopub.status.busy": "2022-02-21T20:22:00.341352Z",
     "iopub.status.idle": "2022-02-21T20:22:04.359171Z",
     "shell.execute_reply": "2022-02-21T20:22:04.358285Z",
     "shell.execute_reply.started": "2022-02-21T20:22:00.341545Z"
    }
   },
   "outputs": [],
   "source": [
    "import os\n",
    "import gc\n",
    "import cv2\n",
    "import math\n",
    "import copy\n",
    "import time\n",
    "import random\n",
    "\n",
    "# For data manipulation\n",
    "import numpy as np\n",
    "import pandas as pd\n",
    "\n",
    "# Utils\n",
    "import joblib\n",
    "from tqdm import tqdm\n",
    "from collections import defaultdict\n",
    "import matplotlib.pyplot as plt\n",
    "%matplotlib inline\n",
    "\n",
    "import warnings\n",
    "warnings.filterwarnings(\"ignore\")\n",
    "\n",
    "def set_seed(seed=42):\n",
    "    '''\n",
    "    随机种子\n",
    "    '''\n",
    "    '''Sets the seed of the entire notebook so results are the same every time we run.\n",
    "    This is for REPRODUCIBILITY.'''\n",
    "    np.random.seed(seed)\n",
    "    # Set a fixed value for the hash seed\n",
    "    os.environ['PYTHONHASHSEED'] = str(seed)\n",
    "    \n",
    "set_seed(42)"
   ]
  },
  {
   "cell_type": "code",
   "execution_count": 2,
   "metadata": {
    "execution": {
     "iopub.execute_input": "2022-02-21T20:22:06.380184Z",
     "iopub.status.busy": "2022-02-21T20:22:06.378261Z",
     "iopub.status.idle": "2022-02-21T20:22:06.385942Z",
     "shell.execute_reply": "2022-02-21T20:22:06.385142Z",
     "shell.execute_reply.started": "2022-02-21T20:22:06.380147Z"
    }
   },
   "outputs": [],
   "source": [
    "ROOT_DIR = '/home/xm/workspace/happy-whale-and-dolphin'\n",
    "TRAIN_DIR = '/home/xm/workspace/happy-whale-and-dolphin/train_images'\n",
    "TEST_DIR = '/home/xm/workspace/happy-whale-and-dolphin/test_images'\n",
    "train_fullbody_csv_dir = f\"{ROOT_DIR}/train_fullbody.csv\" # train fullbody annotation\n",
    "train_backfins_csv_dir = f\"{ROOT_DIR}/train_backfins.csv\" # fullbody annotation\n",
    "test_fullbody_csv_dir = f\"{ROOT_DIR}/test_fullbody.csv\" # fullbody annotation\n",
    "test_backfins_csv_dir = f\"{ROOT_DIR}/test_backfins.csv\" # fullbody annotation"
   ]
  },
  {
   "cell_type": "code",
   "execution_count": 3,
   "metadata": {},
   "outputs": [],
   "source": [
    "def df_bbox(bbox_list, data_type=\"fullbody\"):\n",
    "    '''\n",
    "    格式化dataframe\n",
    "    '''\n",
    "    new_bboxes_list = []\n",
    "    for bbox in tqdm(bbox_list): \n",
    "        if pd.isna(bbox):\n",
    "            new_bboxes_list.append([]) # 如果bbox为空，则返回空列表\n",
    "            continue\n",
    "        try:\n",
    "            # str to list: [x_min, y_min, x_max, y_max] \n",
    "            bbox = bbox.replace(\"[\",\"\").replace(\"]\",\"\") \n",
    "            if data_type==\"fullbody\":\n",
    "                bbox = bbox.split(\"  \")\n",
    "            elif data_type==\"backfins\":\n",
    "                bbox = bbox.split(\" \")\n",
    "            else:\n",
    "                raise \"data_type is not right\"\n",
    "        except:\n",
    "            # error print for debug\n",
    "            print(bbox)\n",
    "            print(type(bbox))\n",
    "            print(bbox == np.nan)\n",
    "            print(pd.isna(bbox))\n",
    "        \n",
    "        bbox = [int(i) for i in bbox if i not in ['', \" \"]] # 清除多余符号\n",
    "        assert len(bbox) == 4\n",
    "        new_bboxes_list.append(bbox) # 加入新的bboxes list\n",
    "\n",
    "    assert len(bbox_list) == len(new_bboxes_list)\n",
    "    return new_bboxes_list"
   ]
  },
  {
   "cell_type": "markdown",
   "metadata": {},
   "source": [
    "# fullbody"
   ]
  },
  {
   "cell_type": "code",
   "execution_count": null,
   "metadata": {},
   "outputs": [],
   "source": [
    "# train_fullbody_df 中bbox str to list\n",
    "train_fullbody_df = pd.read_csv(train_fullbody_csv_dir)\n",
    "bbox_list = train_fullbody_df[\"bbox\"].to_list()\n",
    "train_fullbody_df[\"bbox\"] = df_bbox(bbox_list)\n",
    "train_fullbody_df.head()"
   ]
  },
  {
   "cell_type": "code",
   "execution_count": null,
   "metadata": {},
   "outputs": [],
   "source": [
    "# 裁剪图片并保存\n",
    "for _, image, bbox, _  in tqdm(train_fullbody_df.itertuples(), total=len(train_fullbody_df)):\n",
    "    if bbox != []:\n",
    "        img = cv2.imread(f\"{TRAIN_DIR}/{image}\") # 读取\n",
    "        # img = cv2.cvtColor(img, cv2.COLOR_BGR2RGB)\n",
    "        img = img[bbox[1]:bbox[3],bbox[0]:bbox[2]] # crop\n",
    "    cv2.imwrite(f'{ROOT_DIR}/train_fullbody_images/{image}', img) # save"
   ]
  },
  {
   "cell_type": "code",
   "execution_count": null,
   "metadata": {},
   "outputs": [],
   "source": [
    "# test_fullbody_df 中bbox str to list\n",
    "test_fullbody_df = pd.read_csv(test_fullbody_csv_dir)\n",
    "bbox_list = test_fullbody_df[\"bbox\"].to_list()\n",
    "test_fullbody_df[\"bbox\"] = df_bbox(bbox_list)\n",
    "test_fullbody_df.head()"
   ]
  },
  {
   "cell_type": "code",
   "execution_count": null,
   "metadata": {},
   "outputs": [],
   "source": [
    "# 裁剪图片并保存\n",
    "for _, image, bbox, _  in tqdm(test_fullbody_df.itertuples(), total=len(test_fullbody_df)):\n",
    "    if bbox != []:\n",
    "        img = cv2.imread(f\"{TEST_DIR}/{image}\") # 读取\n",
    "        # img = cv2.cvtColor(img, cv2.COLOR_BGR2RGB)\n",
    "        img = img[bbox[1]:bbox[3],bbox[0]:bbox[2]] # crop\n",
    "    cv2.imwrite(f'{ROOT_DIR}/test_fullbody_images/{image}', img) # save"
   ]
  },
  {
   "cell_type": "markdown",
   "metadata": {},
   "source": [
    "# backfins"
   ]
  },
  {
   "cell_type": "code",
   "execution_count": null,
   "metadata": {},
   "outputs": [],
   "source": [
    "# train_backfins_df 中bbox str to list\n",
    "train_backfins_df = pd.read_csv(train_backfins_csv_dir)\n",
    "bbox_list = train_backfins_df[\"bbox\"].to_list()\n",
    "train_backfins_df[\"bbox\"] = df_bbox(bbox_list,\"backfins\")\n",
    "train_backfins_df.head()"
   ]
  },
  {
   "cell_type": "code",
   "execution_count": null,
   "metadata": {},
   "outputs": [],
   "source": [
    "# 裁剪图片并保存\n",
    "for _, image, bbox in tqdm(train_backfins_df[[\"image\",\"bbox\"]].itertuples(), total=len(train_backfins_df)):\n",
    "    if bbox != []:\n",
    "        img = cv2.imread(f\"{TRAIN_DIR}/{image}\") # 读取\n",
    "        # img = cv2.cvtColor(img, cv2.COLOR_BGR2RGB)\n",
    "        img = img[bbox[1]:bbox[3],bbox[0]:bbox[2]] # crop\n",
    "    cv2.imwrite(f'{ROOT_DIR}/train_backfins_images/{image}', img) # save"
   ]
  },
  {
   "cell_type": "code",
   "execution_count": 4,
   "metadata": {},
   "outputs": [
    {
     "name": "stderr",
     "output_type": "stream",
     "text": [
      "100%|██████████| 27956/27956 [00:00<00:00, 379757.95it/s]\n"
     ]
    },
    {
     "data": {
      "text/html": [
       "<div>\n",
       "<style scoped>\n",
       "    .dataframe tbody tr th:only-of-type {\n",
       "        vertical-align: middle;\n",
       "    }\n",
       "\n",
       "    .dataframe tbody tr th {\n",
       "        vertical-align: top;\n",
       "    }\n",
       "\n",
       "    .dataframe thead th {\n",
       "        text-align: right;\n",
       "    }\n",
       "</style>\n",
       "<table border=\"1\" class=\"dataframe\">\n",
       "  <thead>\n",
       "    <tr style=\"text-align: right;\">\n",
       "      <th></th>\n",
       "      <th>bbox</th>\n",
       "      <th>conf</th>\n",
       "      <th>height</th>\n",
       "      <th>image</th>\n",
       "      <th>image_id</th>\n",
       "      <th>image_path</th>\n",
       "      <th>label_path</th>\n",
       "      <th>predictions</th>\n",
       "      <th>split</th>\n",
       "      <th>width</th>\n",
       "    </tr>\n",
       "  </thead>\n",
       "  <tbody>\n",
       "    <tr>\n",
       "      <th>0</th>\n",
       "      <td>[3529, 2029, 3599, 2359]</td>\n",
       "      <td>[  0.0087128]</td>\n",
       "      <td>2399</td>\n",
       "      <td>000110707af0ba.jpg</td>\n",
       "      <td>000110707af0ba.jpg</td>\n",
       "      <td>../input/happy-whale-and-dolphin/test_images/0...</td>\n",
       "      <td>/kaggle/working/output/test/labels/000110707af...</td>\n",
       "      <td>37c7aba965a5 114207cab555 a6e325d8e924 19fbb96...</td>\n",
       "      <td>Test</td>\n",
       "      <td>3599</td>\n",
       "    </tr>\n",
       "    <tr>\n",
       "      <th>1</th>\n",
       "      <td>[1246, 1612, 1608, 1780]</td>\n",
       "      <td>[     0.6001]</td>\n",
       "      <td>2400</td>\n",
       "      <td>0006287ec424cb.jpg</td>\n",
       "      <td>0006287ec424cb.jpg</td>\n",
       "      <td>../input/happy-whale-and-dolphin/test_images/0...</td>\n",
       "      <td>/kaggle/working/output/test/labels/0006287ec42...</td>\n",
       "      <td>37c7aba965a5 114207cab555 a6e325d8e924 19fbb96...</td>\n",
       "      <td>Test</td>\n",
       "      <td>3600</td>\n",
       "    </tr>\n",
       "    <tr>\n",
       "      <th>2</th>\n",
       "      <td>[947, 762, 1156, 828]</td>\n",
       "      <td>[    0.10522]</td>\n",
       "      <td>1488</td>\n",
       "      <td>000809ecb2ccad.jpg</td>\n",
       "      <td>000809ecb2ccad.jpg</td>\n",
       "      <td>../input/happy-whale-and-dolphin/test_images/0...</td>\n",
       "      <td>/kaggle/working/output/test/labels/000809ecb2c...</td>\n",
       "      <td>37c7aba965a5 114207cab555 a6e325d8e924 19fbb96...</td>\n",
       "      <td>Test</td>\n",
       "      <td>2240</td>\n",
       "    </tr>\n",
       "    <tr>\n",
       "      <th>3</th>\n",
       "      <td>[751, 232, 1355, 408]</td>\n",
       "      <td>[    0.80859]</td>\n",
       "      <td>892</td>\n",
       "      <td>00098d1376dab2.jpg</td>\n",
       "      <td>00098d1376dab2.jpg</td>\n",
       "      <td>../input/happy-whale-and-dolphin/test_images/0...</td>\n",
       "      <td>/kaggle/working/output/test/labels/00098d1376d...</td>\n",
       "      <td>37c7aba965a5 114207cab555 a6e325d8e924 19fbb96...</td>\n",
       "      <td>Test</td>\n",
       "      <td>2048</td>\n",
       "    </tr>\n",
       "    <tr>\n",
       "      <th>4</th>\n",
       "      <td>[0, 2, 293, 318]</td>\n",
       "      <td>[    0.89453]</td>\n",
       "      <td>319</td>\n",
       "      <td>000b8d89c738bd.jpg</td>\n",
       "      <td>000b8d89c738bd.jpg</td>\n",
       "      <td>../input/happy-whale-and-dolphin/test_images/0...</td>\n",
       "      <td>/kaggle/working/output/test/labels/000b8d89c73...</td>\n",
       "      <td>37c7aba965a5 114207cab555 a6e325d8e924 19fbb96...</td>\n",
       "      <td>Test</td>\n",
       "      <td>293</td>\n",
       "    </tr>\n",
       "  </tbody>\n",
       "</table>\n",
       "</div>"
      ],
      "text/plain": [
       "                       bbox           conf  height               image  \\\n",
       "0  [3529, 2029, 3599, 2359]  [  0.0087128]    2399  000110707af0ba.jpg   \n",
       "1  [1246, 1612, 1608, 1780]  [     0.6001]    2400  0006287ec424cb.jpg   \n",
       "2     [947, 762, 1156, 828]  [    0.10522]    1488  000809ecb2ccad.jpg   \n",
       "3     [751, 232, 1355, 408]  [    0.80859]     892  00098d1376dab2.jpg   \n",
       "4          [0, 2, 293, 318]  [    0.89453]     319  000b8d89c738bd.jpg   \n",
       "\n",
       "             image_id                                         image_path  \\\n",
       "0  000110707af0ba.jpg  ../input/happy-whale-and-dolphin/test_images/0...   \n",
       "1  0006287ec424cb.jpg  ../input/happy-whale-and-dolphin/test_images/0...   \n",
       "2  000809ecb2ccad.jpg  ../input/happy-whale-and-dolphin/test_images/0...   \n",
       "3  00098d1376dab2.jpg  ../input/happy-whale-and-dolphin/test_images/0...   \n",
       "4  000b8d89c738bd.jpg  ../input/happy-whale-and-dolphin/test_images/0...   \n",
       "\n",
       "                                          label_path  \\\n",
       "0  /kaggle/working/output/test/labels/000110707af...   \n",
       "1  /kaggle/working/output/test/labels/0006287ec42...   \n",
       "2  /kaggle/working/output/test/labels/000809ecb2c...   \n",
       "3  /kaggle/working/output/test/labels/00098d1376d...   \n",
       "4  /kaggle/working/output/test/labels/000b8d89c73...   \n",
       "\n",
       "                                         predictions split  width  \n",
       "0  37c7aba965a5 114207cab555 a6e325d8e924 19fbb96...  Test   3599  \n",
       "1  37c7aba965a5 114207cab555 a6e325d8e924 19fbb96...  Test   3600  \n",
       "2  37c7aba965a5 114207cab555 a6e325d8e924 19fbb96...  Test   2240  \n",
       "3  37c7aba965a5 114207cab555 a6e325d8e924 19fbb96...  Test   2048  \n",
       "4  37c7aba965a5 114207cab555 a6e325d8e924 19fbb96...  Test    293  "
      ]
     },
     "execution_count": 4,
     "metadata": {},
     "output_type": "execute_result"
    }
   ],
   "source": [
    "# test_backfins_df 中bbox str to list\n",
    "test_backfins_df = pd.read_csv(test_backfins_csv_dir)\n",
    "bbox_list = test_backfins_df[\"bbox\"].to_list()\n",
    "test_backfins_df[\"bbox\"] = df_bbox(bbox_list,\"backfins\")\n",
    "test_backfins_df.head()"
   ]
  },
  {
   "cell_type": "code",
   "execution_count": 5,
   "metadata": {},
   "outputs": [
    {
     "name": "stderr",
     "output_type": "stream",
     "text": [
      " 87%|████████▋ | 24288/27956 [00:02<00:00, 10595.66it/s]"
     ]
    },
    {
     "name": "stdout",
     "output_type": "stream",
     "text": [
      "dfccc5735c4023.jpg\n",
      "(0, 236, 3)\n"
     ]
    },
    {
     "name": "stderr",
     "output_type": "stream",
     "text": [
      "100%|██████████| 27956/27956 [02:19<00:00, 200.80it/s]  \n"
     ]
    }
   ],
   "source": [
    "# 裁剪图片并保存\n",
    "saved_list = os.listdir(f'{ROOT_DIR}/test_backfins_images/')\n",
    "for _, image, bbox in tqdm(test_backfins_df[[\"image\",\"bbox\"]].itertuples(), total=len(test_backfins_df)):\n",
    "    if image in saved_list:\n",
    "        continue\n",
    "    if bbox != []:\n",
    "        img = cv2.imread(f\"{TEST_DIR}/{image}\") # 读取\n",
    "        # img = cv2.cvtColor(img, cv2.COLOR_BGR2RGB)\n",
    "        img = img[bbox[1]:bbox[3],bbox[0]:bbox[2]] # crop\n",
    "    try:\n",
    "        cv2.imwrite(f'{ROOT_DIR}/test_backfins_images/{image}', img) # save\n",
    "    except:\n",
    "        print(image)\n",
    "        print(img.shape)"
   ]
  }
 ],
 "metadata": {
  "kernelspec": {
   "display_name": "Python 3",
   "language": "python",
   "name": "python3"
  },
  "language_info": {
   "codemirror_mode": {
    "name": "ipython",
    "version": 3
   },
   "file_extension": ".py",
   "mimetype": "text/x-python",
   "name": "python",
   "nbconvert_exporter": "python",
   "pygments_lexer": "ipython3",
   "version": "3.7.4"
  }
 },
 "nbformat": 4,
 "nbformat_minor": 4
}
